{
 "cells": [
  {
   "cell_type": "code",
   "execution_count": 15,
   "metadata": {},
   "outputs": [
    {
     "name": "stdout",
     "output_type": "stream",
     "text": [
      "Data has been transformed sequentially and saved to transformed_sequential_load_data_2.csv\n"
     ]
    }
   ],
   "source": [
    "import pandas as pd\n",
    "\n",
    "# Load the Excel file\n",
    "file_path = 'comb_last_six.xlsx'  # Replace with your file path\n",
    "data = pd.read_excel(file_path)\n",
    "\n",
    "# Melt the data: Convert hour columns to rows\n",
    "data_melted = data.melt(id_vars=['Date'], var_name='Time', value_name='Load')\n",
    "\n",
    "# Combine \"Date\" and \"Time\" into a single timestamp in sequential order\n",
    "data_melted['Datetime'] = pd.to_datetime(\n",
    "    data_melted['Date'].astype(str) + ' ' + data_melted['Time'],\n",
    "    format='%Y-%m-%d %H:%M',\n",
    "    errors='coerce'\n",
    ")\n",
    "\n",
    "# Drop rows with invalid timestamps\n",
    "data_melted = data_melted.dropna(subset=['Datetime'])\n",
    "\n",
    "# Sort by the timestamp to ensure sequential order\n",
    "data_melted = data_melted.sort_values(by='Datetime')\n",
    "\n",
    "# Keep only the necessary columns\n",
    "transformed_data = data_melted[['Datetime', 'Load']]\n",
    "\n",
    "# Save the transformed data to a CSV file\n",
    "output_path = 'transformed_sequential_load_data_2.csv'\n",
    "transformed_data.to_csv(output_path, index=False)\n",
    "\n",
    "print(f\"Data has been transformed sequentially and saved to {output_path}\")\n"
   ]
  },
  {
   "cell_type": "code",
   "execution_count": 16,
   "metadata": {},
   "outputs": [
    {
     "name": "stdout",
     "output_type": "stream",
     "text": [
      "Data has been transformed sequentially and saved to transformed_sequential_load_data_1.csv\n"
     ]
    }
   ],
   "source": [
    "import pandas as pd\n",
    "\n",
    "# Load the Excel file\n",
    "file_path = 'comb_first_six.xlsx'  # Replace with your file path\n",
    "data = pd.read_excel(file_path)\n",
    "\n",
    "# Melt the data: Convert hour columns to rows\n",
    "data_melted = data.melt(id_vars=['Date'], var_name='Time', value_name='Load')\n",
    "\n",
    "# Combine \"Date\" and \"Time\" into a single timestamp in sequential order\n",
    "data_melted['Datetime'] = pd.to_datetime(\n",
    "    data_melted['Date'].astype(str) + ' ' + data_melted['Time'],\n",
    "    format='%Y-%m-%d %H:%M',\n",
    "    errors='coerce'\n",
    ")\n",
    "\n",
    "# Drop rows with invalid timestamps\n",
    "data_melted = data_melted.dropna(subset=['Datetime'])\n",
    "\n",
    "# Sort by the timestamp to ensure sequential order\n",
    "data_melted = data_melted.sort_values(by='Datetime')\n",
    "\n",
    "# Keep only the necessary columns\n",
    "transformed_data = data_melted[['Datetime', 'Load']]\n",
    "\n",
    "# Save the transformed data to a CSV file\n",
    "output_path = 'transformed_sequential_load_data_1.csv'\n",
    "transformed_data.to_csv(output_path, index=False)\n",
    "\n",
    "print(f\"Data has been transformed sequentially and saved to {output_path}\")\n"
   ]
  }
 ],
 "metadata": {
  "kernelspec": {
   "display_name": "base",
   "language": "python",
   "name": "python3"
  },
  "language_info": {
   "codemirror_mode": {
    "name": "ipython",
    "version": 3
   },
   "file_extension": ".py",
   "mimetype": "text/x-python",
   "name": "python",
   "nbconvert_exporter": "python",
   "pygments_lexer": "ipython3",
   "version": "3.12.4"
  }
 },
 "nbformat": 4,
 "nbformat_minor": 2
}
