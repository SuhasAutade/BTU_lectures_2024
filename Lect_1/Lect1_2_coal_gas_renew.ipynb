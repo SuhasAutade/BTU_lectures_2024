{
 "cells": [
  {
   "cell_type": "markdown",
   "metadata": {},
   "source": [
    "## Lect 1_Part 2 Simple LPP Problem using PyPSA"
   ]
  },
  {
   "cell_type": "markdown",
   "metadata": {},
   "source": [
    "### Powerplants: Coal, gas, Renewables LPP"
   ]
  },
  {
   "cell_type": "code",
   "execution_count": 11,
   "metadata": {},
   "outputs": [
    {
     "name": "stderr",
     "output_type": "stream",
     "text": [
      "WARNING:pypsa.consistency:The following buses have carriers which are not defined:\n",
      "Index(['electricity_bus'], dtype='object', name='Bus')\n",
      "WARNING:pypsa.consistency:The following buses have carriers which are not defined:\n",
      "Index(['electricity_bus'], dtype='object', name='Bus')\n",
      "c:\\Users\\suhas\\anaconda3\\Lib\\site-packages\\linopy\\common.py:147: UserWarning:\n",
      "\n",
      "coords for dimension(s) ['Generator'] is not aligned with the pandas object. Previously, the indexes of the pandas were ignored and overwritten in these cases. Now, the pandas object's coordinates are taken considered for alignment.\n",
      "\n",
      "INFO:linopy.model: Solve problem using Highs solver\n",
      "INFO:linopy.io: Writing time: 0.06s\n",
      "INFO:linopy.solvers:Log file at C:\\Users\\suhas\\AppData\\Local\\Temp\\highs.log\n",
      "INFO:linopy.constants: Optimization successful: \n",
      "Status: ok\n",
      "Termination condition: optimal\n",
      "Solution: 6 primals, 18 duals\n",
      "Objective: 3.60e+03\n",
      "Solver model: available\n",
      "Solver message: optimal\n",
      "\n",
      "INFO:pypsa.optimization.optimize:The shadow-prices of the constraints Generator-fix-p-lower, Generator-fix-p-upper, Generator-ext-p-lower, Generator-ext-p-upper were not assigned to the network.\n"
     ]
    },
    {
     "name": "stdout",
     "output_type": "stream",
     "text": [
      "Generator  Coal   Gas    PV  Wind\n",
      "snapshot                         \n",
      "0          60.0  30.0  40.0  70.0\n",
      "Total Cost of Electricity Generation: 3600.0 €\n",
      "Total CO2 Emissions: GlobalConstraint\n",
      "emission_limit    60.0\n",
      "Name: constant, dtype: float64 tons\n",
      "Total Emissions: 60.0 tons\n"
     ]
    }
   ],
   "source": [
    "import pypsa\n",
    "import warnings\n",
    "warnings.simplefilter(action='ignore', category=FutureWarning)\n",
    "warnings.simplefilter(action='ignore', category=DeprecationWarning)\n",
    "\n",
    "# Create a new PyPSA network\n",
    "network = pypsa.Network()\n",
    "network.set_snapshots(range(1))  # Solve for a single time snapshot\n",
    "\n",
    "# Define the buses (electricity demand)\n",
    "network.add(\"Bus\", \"electricity_bus\", carrier=\"electricity\")\n",
    "\n",
    "# Add generators (power plants) with defined emissions rate per MWh generated\n",
    "network.add(\"Generator\", \"Coal\", bus=\"electricity_bus\", p_nom_extendable=False, marginal_cost=30, p_nom=60, carrier=\"coal\")\n",
    "network.add(\"Generator\", \"Gas\", bus=\"electricity_bus\", p_nom_extendable=False, marginal_cost=60, p_nom=80, carrier=\"gas\")\n",
    "network.add(\"Generator\", \"PV\", bus=\"electricity_bus\", p_nom_extendable=True, marginal_cost=0, p_nom_max=40)\n",
    "network.add(\"Generator\", \"Wind\", bus=\"electricity_bus\", p_nom_extendable=True, marginal_cost=0, p_nom_max=70)\n",
    "\n",
    "network.madd(\n",
    "    \"Carrier\",\n",
    "    names=[\"coal\",\"gas\",\"pv\",\"wind\"],\n",
    "    color=[\"black\",\"darkslategray\",\"gold\",\"lightseagreen\"],\n",
    "    co2_emissions=[0.8,0.4,0,0],\n",
    ")\n",
    "\n",
    "# Add global CO2 emissions constraint for the entire network\n",
    "network.add(\n",
    "    \"GlobalConstraint\",\n",
    "    \"emission_limit\",\n",
    "    carrier_attribute=\"co2_emissions\",\n",
    "    sense=\"<=\",\n",
    "    constant=60,  # Total CO2 emissions limit in tons\n",
    ")\n",
    "\n",
    "# Add load data (electricity demand)\n",
    "network.add(\"Load\", \"electricity_load\", bus=\"electricity_bus\", p_set=200)\n",
    "\n",
    "# Optimize the network to minimize the total cost\n",
    "network.optimize(solver_name=\"highs\")\n",
    "\n",
    "# Print the results\n",
    "print(network.generators_t.p)  # Power output per generator\n",
    "print(f\"Total Cost of Electricity Generation: {network.objective} €\")\n",
    "print(f\"Total CO2 Emissions: {network.global_constraints.constant} tons\")\n",
    "# Individual emissions\n",
    "emissions_ind = (network.generators_t.p/ network.generators.efficiency* network.generators.carrier.map(network.carriers.co2_emissions))\n",
    "print(f\"Total Emissions: {emissions_ind.sum().sum()} tons\")"
   ]
  },
  {
   "cell_type": "code",
   "execution_count": 3,
   "metadata": {},
   "outputs": [
    {
     "data": {
      "text/html": [
       "<div>\n",
       "<style scoped>\n",
       "    .dataframe tbody tr th:only-of-type {\n",
       "        vertical-align: middle;\n",
       "    }\n",
       "\n",
       "    .dataframe tbody tr th {\n",
       "        vertical-align: top;\n",
       "    }\n",
       "\n",
       "    .dataframe thead th {\n",
       "        text-align: right;\n",
       "    }\n",
       "</style>\n",
       "<table border=\"1\" class=\"dataframe\">\n",
       "  <thead>\n",
       "    <tr style=\"text-align: right;\">\n",
       "      <th></th>\n",
       "      <th></th>\n",
       "      <th>Optimal Capacity</th>\n",
       "      <th>Installed Capacity</th>\n",
       "      <th>Supply</th>\n",
       "      <th>Withdrawal</th>\n",
       "      <th>Energy Balance</th>\n",
       "      <th>Transmission</th>\n",
       "      <th>Capacity Factor</th>\n",
       "      <th>Curtailment</th>\n",
       "      <th>Capital Expenditure</th>\n",
       "      <th>Operational Expenditure</th>\n",
       "      <th>Revenue</th>\n",
       "      <th>Market Value</th>\n",
       "    </tr>\n",
       "  </thead>\n",
       "  <tbody>\n",
       "    <tr>\n",
       "      <th rowspan=\"3\" valign=\"top\">Generator</th>\n",
       "      <th>-</th>\n",
       "      <td>110.0</td>\n",
       "      <td>0.0</td>\n",
       "      <td>110.0</td>\n",
       "      <td>0.0</td>\n",
       "      <td>110.0</td>\n",
       "      <td>0.0</td>\n",
       "      <td>1.000000</td>\n",
       "      <td>0.0</td>\n",
       "      <td>0.0</td>\n",
       "      <td>0.0</td>\n",
       "      <td>9900.0</td>\n",
       "      <td>90.0</td>\n",
       "    </tr>\n",
       "    <tr>\n",
       "      <th>coal</th>\n",
       "      <td>60.0</td>\n",
       "      <td>60.0</td>\n",
       "      <td>10.0</td>\n",
       "      <td>0.0</td>\n",
       "      <td>10.0</td>\n",
       "      <td>0.0</td>\n",
       "      <td>0.166667</td>\n",
       "      <td>50.0</td>\n",
       "      <td>0.0</td>\n",
       "      <td>300.0</td>\n",
       "      <td>900.0</td>\n",
       "      <td>90.0</td>\n",
       "    </tr>\n",
       "    <tr>\n",
       "      <th>gas</th>\n",
       "      <td>80.0</td>\n",
       "      <td>80.0</td>\n",
       "      <td>80.0</td>\n",
       "      <td>0.0</td>\n",
       "      <td>80.0</td>\n",
       "      <td>0.0</td>\n",
       "      <td>1.000000</td>\n",
       "      <td>0.0</td>\n",
       "      <td>0.0</td>\n",
       "      <td>4800.0</td>\n",
       "      <td>7200.0</td>\n",
       "      <td>90.0</td>\n",
       "    </tr>\n",
       "    <tr>\n",
       "      <th>Load</th>\n",
       "      <th>-</th>\n",
       "      <td>0.0</td>\n",
       "      <td>0.0</td>\n",
       "      <td>0.0</td>\n",
       "      <td>200.0</td>\n",
       "      <td>-200.0</td>\n",
       "      <td>0.0</td>\n",
       "      <td>NaN</td>\n",
       "      <td>0.0</td>\n",
       "      <td>0.0</td>\n",
       "      <td>0.0</td>\n",
       "      <td>-18000.0</td>\n",
       "      <td>NaN</td>\n",
       "    </tr>\n",
       "  </tbody>\n",
       "</table>\n",
       "</div>"
      ],
      "text/plain": [
       "                Optimal Capacity  Installed Capacity  Supply  Withdrawal  \\\n",
       "Generator -                110.0                 0.0   110.0         0.0   \n",
       "          coal              60.0                60.0    10.0         0.0   \n",
       "          gas               80.0                80.0    80.0         0.0   \n",
       "Load      -                  0.0                 0.0     0.0       200.0   \n",
       "\n",
       "                Energy Balance Transmission  Capacity Factor  Curtailment  \\\n",
       "Generator -              110.0          0.0         1.000000          0.0   \n",
       "          coal            10.0          0.0         0.166667         50.0   \n",
       "          gas             80.0          0.0         1.000000          0.0   \n",
       "Load      -             -200.0          0.0              NaN          0.0   \n",
       "\n",
       "                Capital Expenditure  Operational Expenditure  Revenue  \\\n",
       "Generator -                     0.0                      0.0   9900.0   \n",
       "          coal                  0.0                    300.0    900.0   \n",
       "          gas                   0.0                   4800.0   7200.0   \n",
       "Load      -                     0.0                      0.0 -18000.0   \n",
       "\n",
       "                Market Value  \n",
       "Generator -             90.0  \n",
       "          coal          90.0  \n",
       "          gas           90.0  \n",
       "Load      -              NaN  "
      ]
     },
     "execution_count": 3,
     "metadata": {},
     "output_type": "execute_result"
    }
   ],
   "source": [
    "network.statistics()"
   ]
  },
  {
   "cell_type": "code",
   "execution_count": 10,
   "metadata": {},
   "outputs": [
    {
     "data": {
      "image/png": "[encoded data removed]",
      "text/plain": [
       "<Figure size 640x480 with 1 Axes>"
      ]
     },
     "metadata": {},
     "output_type": "display_data"
    }
   ],
   "source": [
    "import matplotlib.pyplot as plt\n",
    "fig, ax = plt.subplots()\n",
    "network.generators_t.p.plot(kind=\"bar\", stacked=True, ax=ax)\n",
    "plt.ylabel(\"Power [MW]\")\n",
    "plt.show()"
   ]
  },
  {
   "cell_type": "code",
   "execution_count": 12,
   "metadata": {},
   "outputs": [
    {
     "data": {
      "text/plain": [
       "<Axes: xlabel='Generator', ylabel='Total generation MW'>"
      ]
     },
     "execution_count": 12,
     "metadata": {},
     "output_type": "execute_result"
    },
    {
     "data": {
      "image/png": "[encoded data removed]",
      "text/plain": [
       "<Figure size 640x480 with 1 Axes>"
      ]
     },
     "metadata": {},
     "output_type": "display_data"
    }
   ],
   "source": [
    "network.generators_t.p.sum().plot.bar(ylabel=\"Total generation MW\")"
   ]
  }
 ],
 "metadata": {
  "kernelspec": {
   "display_name": "base",
   "language": "python",
   "name": "python3"
  },
  "language_info": {
   "codemirror_mode": {
    "name": "ipython",
    "version": 3
   },
   "file_extension": ".py",
   "mimetype": "text/x-python",
   "name": "python",
   "nbconvert_exporter": "python",
   "pygments_lexer": "ipython3",
   "version": "3.12.4"
  },
  "orig_nbformat": 4
 },
 "nbformat": 4,
 "nbformat_minor": 2
}
